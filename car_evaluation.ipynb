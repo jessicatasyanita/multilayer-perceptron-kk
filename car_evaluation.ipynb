{
  "nbformat": 4,
  "nbformat_minor": 0,
  "metadata": {
    "colab": {
      "name": "car evaluation.ipynb",
      "provenance": [],
      "collapsed_sections": []
    },
    "kernelspec": {
      "name": "python3",
      "display_name": "Python 3"
    },
    "language_info": {
      "name": "python"
    }
  },
  "cells": [
    {
      "cell_type": "markdown",
      "metadata": {
        "id": "fy7FP0EHPwli"
      },
      "source": [
        "# Car Evaluation Dataset"
      ]
    },
    {
      "cell_type": "code",
      "metadata": {
        "id": "9xYAlDsDK3sj"
      },
      "source": [
        "import pandas as pd\n",
        "import numpy as np"
      ],
      "execution_count": 592,
      "outputs": []
    },
    {
      "cell_type": "code",
      "metadata": {
        "id": "aHUA8_p2uOFh"
      },
      "source": [
        "from matplotlib import pyplot as plt\n",
        "from matplotlib.colors import ListedColormap\n",
        "import seaborn as sns"
      ],
      "execution_count": 593,
      "outputs": []
    },
    {
      "cell_type": "markdown",
      "metadata": {
        "id": "l7oj-XWeQRXR"
      },
      "source": [
        "Importing dataset from https://archive.ics.uci.edu/ml/datasets/Car+Evaluation"
      ]
    },
    {
      "cell_type": "markdown",
      "metadata": {
        "id": "1E0Q3aoKUCRX"
      },
      "source": [
        "## Data Preprocessing"
      ]
    },
    {
      "cell_type": "markdown",
      "metadata": {
        "id": "cKWAkFVGUU0Z"
      },
      "source": [
        "### Importing the dataset"
      ]
    },
    {
      "cell_type": "code",
      "metadata": {
        "id": "ZoUC1xQkK-kI"
      },
      "source": [
        "dataset = pd.read_csv(\"/carevaluation.csv\")"
      ],
      "execution_count": 594,
      "outputs": []
    },
    {
      "cell_type": "code",
      "metadata": {
        "colab": {
          "base_uri": "https://localhost:8080/",
          "height": 204
        },
        "id": "PohvIZM8LKO-",
        "outputId": "3234e6fe-471e-4335-a443-5f170ef96b39"
      },
      "source": [
        "dataset.head()"
      ],
      "execution_count": 595,
      "outputs": [
        {
          "output_type": "execute_result",
          "data": {
            "text/html": [
              "<div>\n",
              "<style scoped>\n",
              "    .dataframe tbody tr th:only-of-type {\n",
              "        vertical-align: middle;\n",
              "    }\n",
              "\n",
              "    .dataframe tbody tr th {\n",
              "        vertical-align: top;\n",
              "    }\n",
              "\n",
              "    .dataframe thead th {\n",
              "        text-align: right;\n",
              "    }\n",
              "</style>\n",
              "<table border=\"1\" class=\"dataframe\">\n",
              "  <thead>\n",
              "    <tr style=\"text-align: right;\">\n",
              "      <th></th>\n",
              "      <th>no</th>\n",
              "      <th>buying</th>\n",
              "      <th>maint</th>\n",
              "      <th>doors</th>\n",
              "      <th>persons</th>\n",
              "      <th>lug_boot</th>\n",
              "      <th>safety</th>\n",
              "      <th>class</th>\n",
              "    </tr>\n",
              "  </thead>\n",
              "  <tbody>\n",
              "    <tr>\n",
              "      <th>0</th>\n",
              "      <td>0</td>\n",
              "      <td>vhigh</td>\n",
              "      <td>vhigh</td>\n",
              "      <td>2</td>\n",
              "      <td>2</td>\n",
              "      <td>small</td>\n",
              "      <td>low</td>\n",
              "      <td>unacc</td>\n",
              "    </tr>\n",
              "    <tr>\n",
              "      <th>1</th>\n",
              "      <td>1</td>\n",
              "      <td>vhigh</td>\n",
              "      <td>vhigh</td>\n",
              "      <td>2</td>\n",
              "      <td>2</td>\n",
              "      <td>small</td>\n",
              "      <td>med</td>\n",
              "      <td>unacc</td>\n",
              "    </tr>\n",
              "    <tr>\n",
              "      <th>2</th>\n",
              "      <td>2</td>\n",
              "      <td>vhigh</td>\n",
              "      <td>vhigh</td>\n",
              "      <td>2</td>\n",
              "      <td>2</td>\n",
              "      <td>small</td>\n",
              "      <td>high</td>\n",
              "      <td>unacc</td>\n",
              "    </tr>\n",
              "    <tr>\n",
              "      <th>3</th>\n",
              "      <td>3</td>\n",
              "      <td>vhigh</td>\n",
              "      <td>vhigh</td>\n",
              "      <td>2</td>\n",
              "      <td>2</td>\n",
              "      <td>med</td>\n",
              "      <td>low</td>\n",
              "      <td>unacc</td>\n",
              "    </tr>\n",
              "    <tr>\n",
              "      <th>4</th>\n",
              "      <td>4</td>\n",
              "      <td>vhigh</td>\n",
              "      <td>vhigh</td>\n",
              "      <td>2</td>\n",
              "      <td>2</td>\n",
              "      <td>med</td>\n",
              "      <td>med</td>\n",
              "      <td>unacc</td>\n",
              "    </tr>\n",
              "  </tbody>\n",
              "</table>\n",
              "</div>"
            ],
            "text/plain": [
              "   no buying  maint  doors  persons lug_boot safety  class\n",
              "0   0  vhigh  vhigh      2        2    small    low  unacc\n",
              "1   1  vhigh  vhigh      2        2    small    med  unacc\n",
              "2   2  vhigh  vhigh      2        2    small   high  unacc\n",
              "3   3  vhigh  vhigh      2        2      med    low  unacc\n",
              "4   4  vhigh  vhigh      2        2      med    med  unacc"
            ]
          },
          "metadata": {},
          "execution_count": 595
        }
      ]
    },
    {
      "cell_type": "code",
      "metadata": {
        "colab": {
          "base_uri": "https://localhost:8080/"
        },
        "id": "TeSQHkJNIR-C",
        "outputId": "a1734e59-acf3-435a-bf13-6cd083cb2a18"
      },
      "source": [
        "dataset.shape"
      ],
      "execution_count": 596,
      "outputs": [
        {
          "output_type": "execute_result",
          "data": {
            "text/plain": [
              "(1728, 8)"
            ]
          },
          "metadata": {},
          "execution_count": 596
        }
      ]
    },
    {
      "cell_type": "code",
      "metadata": {
        "colab": {
          "base_uri": "https://localhost:8080/",
          "height": 390
        },
        "id": "O97I3VLGIf8D",
        "outputId": "c0295d8d-cab2-44f8-936c-bd007998d6bf"
      },
      "source": [
        "dataset.describe(include= 'all')"
      ],
      "execution_count": 597,
      "outputs": [
        {
          "output_type": "execute_result",
          "data": {
            "text/html": [
              "<div>\n",
              "<style scoped>\n",
              "    .dataframe tbody tr th:only-of-type {\n",
              "        vertical-align: middle;\n",
              "    }\n",
              "\n",
              "    .dataframe tbody tr th {\n",
              "        vertical-align: top;\n",
              "    }\n",
              "\n",
              "    .dataframe thead th {\n",
              "        text-align: right;\n",
              "    }\n",
              "</style>\n",
              "<table border=\"1\" class=\"dataframe\">\n",
              "  <thead>\n",
              "    <tr style=\"text-align: right;\">\n",
              "      <th></th>\n",
              "      <th>no</th>\n",
              "      <th>buying</th>\n",
              "      <th>maint</th>\n",
              "      <th>doors</th>\n",
              "      <th>persons</th>\n",
              "      <th>lug_boot</th>\n",
              "      <th>safety</th>\n",
              "      <th>class</th>\n",
              "    </tr>\n",
              "  </thead>\n",
              "  <tbody>\n",
              "    <tr>\n",
              "      <th>count</th>\n",
              "      <td>1728.000000</td>\n",
              "      <td>1728</td>\n",
              "      <td>1728</td>\n",
              "      <td>1728.000000</td>\n",
              "      <td>1728.000000</td>\n",
              "      <td>1728</td>\n",
              "      <td>1728</td>\n",
              "      <td>1728</td>\n",
              "    </tr>\n",
              "    <tr>\n",
              "      <th>unique</th>\n",
              "      <td>NaN</td>\n",
              "      <td>4</td>\n",
              "      <td>4</td>\n",
              "      <td>NaN</td>\n",
              "      <td>NaN</td>\n",
              "      <td>3</td>\n",
              "      <td>3</td>\n",
              "      <td>4</td>\n",
              "    </tr>\n",
              "    <tr>\n",
              "      <th>top</th>\n",
              "      <td>NaN</td>\n",
              "      <td>vhigh</td>\n",
              "      <td>vhigh</td>\n",
              "      <td>NaN</td>\n",
              "      <td>NaN</td>\n",
              "      <td>small</td>\n",
              "      <td>high</td>\n",
              "      <td>unacc</td>\n",
              "    </tr>\n",
              "    <tr>\n",
              "      <th>freq</th>\n",
              "      <td>NaN</td>\n",
              "      <td>432</td>\n",
              "      <td>432</td>\n",
              "      <td>NaN</td>\n",
              "      <td>NaN</td>\n",
              "      <td>576</td>\n",
              "      <td>576</td>\n",
              "      <td>1210</td>\n",
              "    </tr>\n",
              "    <tr>\n",
              "      <th>mean</th>\n",
              "      <td>863.500000</td>\n",
              "      <td>NaN</td>\n",
              "      <td>NaN</td>\n",
              "      <td>3.500000</td>\n",
              "      <td>3.666667</td>\n",
              "      <td>NaN</td>\n",
              "      <td>NaN</td>\n",
              "      <td>NaN</td>\n",
              "    </tr>\n",
              "    <tr>\n",
              "      <th>std</th>\n",
              "      <td>498.974949</td>\n",
              "      <td>NaN</td>\n",
              "      <td>NaN</td>\n",
              "      <td>1.118358</td>\n",
              "      <td>1.247580</td>\n",
              "      <td>NaN</td>\n",
              "      <td>NaN</td>\n",
              "      <td>NaN</td>\n",
              "    </tr>\n",
              "    <tr>\n",
              "      <th>min</th>\n",
              "      <td>0.000000</td>\n",
              "      <td>NaN</td>\n",
              "      <td>NaN</td>\n",
              "      <td>2.000000</td>\n",
              "      <td>2.000000</td>\n",
              "      <td>NaN</td>\n",
              "      <td>NaN</td>\n",
              "      <td>NaN</td>\n",
              "    </tr>\n",
              "    <tr>\n",
              "      <th>25%</th>\n",
              "      <td>431.750000</td>\n",
              "      <td>NaN</td>\n",
              "      <td>NaN</td>\n",
              "      <td>2.750000</td>\n",
              "      <td>2.000000</td>\n",
              "      <td>NaN</td>\n",
              "      <td>NaN</td>\n",
              "      <td>NaN</td>\n",
              "    </tr>\n",
              "    <tr>\n",
              "      <th>50%</th>\n",
              "      <td>863.500000</td>\n",
              "      <td>NaN</td>\n",
              "      <td>NaN</td>\n",
              "      <td>3.500000</td>\n",
              "      <td>4.000000</td>\n",
              "      <td>NaN</td>\n",
              "      <td>NaN</td>\n",
              "      <td>NaN</td>\n",
              "    </tr>\n",
              "    <tr>\n",
              "      <th>75%</th>\n",
              "      <td>1295.250000</td>\n",
              "      <td>NaN</td>\n",
              "      <td>NaN</td>\n",
              "      <td>4.250000</td>\n",
              "      <td>5.000000</td>\n",
              "      <td>NaN</td>\n",
              "      <td>NaN</td>\n",
              "      <td>NaN</td>\n",
              "    </tr>\n",
              "    <tr>\n",
              "      <th>max</th>\n",
              "      <td>1727.000000</td>\n",
              "      <td>NaN</td>\n",
              "      <td>NaN</td>\n",
              "      <td>5.000000</td>\n",
              "      <td>5.000000</td>\n",
              "      <td>NaN</td>\n",
              "      <td>NaN</td>\n",
              "      <td>NaN</td>\n",
              "    </tr>\n",
              "  </tbody>\n",
              "</table>\n",
              "</div>"
            ],
            "text/plain": [
              "                 no buying  maint  ...  lug_boot  safety  class\n",
              "count   1728.000000   1728   1728  ...      1728    1728   1728\n",
              "unique          NaN      4      4  ...         3       3      4\n",
              "top             NaN  vhigh  vhigh  ...     small    high  unacc\n",
              "freq            NaN    432    432  ...       576     576   1210\n",
              "mean     863.500000    NaN    NaN  ...       NaN     NaN    NaN\n",
              "std      498.974949    NaN    NaN  ...       NaN     NaN    NaN\n",
              "min        0.000000    NaN    NaN  ...       NaN     NaN    NaN\n",
              "25%      431.750000    NaN    NaN  ...       NaN     NaN    NaN\n",
              "50%      863.500000    NaN    NaN  ...       NaN     NaN    NaN\n",
              "75%     1295.250000    NaN    NaN  ...       NaN     NaN    NaN\n",
              "max     1727.000000    NaN    NaN  ...       NaN     NaN    NaN\n",
              "\n",
              "[11 rows x 8 columns]"
            ]
          },
          "metadata": {},
          "execution_count": 597
        }
      ]
    },
    {
      "cell_type": "markdown",
      "metadata": {
        "id": "N6bQ0UgSU-NJ"
      },
      "source": [
        "### Encoding categorical data"
      ]
    },
    {
      "cell_type": "code",
      "metadata": {
        "id": "3j5LafW4KeLp"
      },
      "source": [
        "from sklearn.preprocessing import LabelEncoder"
      ],
      "execution_count": 598,
      "outputs": []
    },
    {
      "cell_type": "code",
      "metadata": {
        "id": "flTaDjYrNxIP"
      },
      "source": [
        "class MultiColumnLabelEncoder:\n",
        "    def __init__(self,columns = None):\n",
        "        self.columns = columns # array of column names to encode\n",
        "\n",
        "    def fit(self,X,y=None):\n",
        "        return self # not relevant here\n",
        "\n",
        "    def transform(self,X):\n",
        "        '''\n",
        "        Transforms columns of X specified in self.columns using\n",
        "        LabelEncoder(). If no columns specified, transforms all\n",
        "        columns in X.\n",
        "        '''\n",
        "        output = X.copy()\n",
        "        if self.columns is not None:\n",
        "            for col in self.columns:\n",
        "                output[col] = LabelEncoder().fit_transform(output[col])\n",
        "        else:\n",
        "            for colname,col in output.iteritems():\n",
        "                output[colname] = LabelEncoder().fit_transform(col)\n",
        "        return output\n",
        "\n",
        "    def fit_transform(self,X,y=None):\n",
        "        return self.fit(X,y).transform(X)"
      ],
      "execution_count": 599,
      "outputs": []
    },
    {
      "cell_type": "code",
      "metadata": {
        "id": "3o24qG7cN0zZ"
      },
      "source": [
        "dataset = MultiColumnLabelEncoder(columns = ['buying','maint','lug_boot','safety','class']).fit_transform(dataset)"
      ],
      "execution_count": 600,
      "outputs": []
    },
    {
      "cell_type": "code",
      "metadata": {
        "colab": {
          "base_uri": "https://localhost:8080/",
          "height": 406
        },
        "id": "gRqAlYA33xXi",
        "outputId": "1c6aac64-89b0-4cc9-d659-8e692d2e8dc0"
      },
      "source": [
        "import seaborn as sns\n",
        "\n",
        "sns.lmplot(dataset.columns[1], dataset.columns[2],data=dataset, fit_reg=False, x_jitter=0.1, y_jitter=0.1, hue = dataset.columns[2])\n",
        "plt.show()\n"
      ],
      "execution_count": 601,
      "outputs": [
        {
          "output_type": "stream",
          "name": "stderr",
          "text": [
            "/usr/local/lib/python3.7/dist-packages/seaborn/_decorators.py:43: FutureWarning: Pass the following variables as keyword args: x, y. From version 0.12, the only valid positional argument will be `data`, and passing other arguments without an explicit keyword will result in an error or misinterpretation.\n",
            "  FutureWarning\n"
          ]
        },
        {
          "output_type": "display_data",
          "data": {
            "image/png": "[encoded data removed]",
            "text/plain": [
              "<Figure size 429.9x360 with 1 Axes>"
            ]
          },
          "metadata": {}
        }
      ]
    },
    {
      "cell_type": "markdown",
      "metadata": {
        "id": "2aYlod0xPe0G"
      },
      "source": [
        "### Split feature construction and class"
      ]
    },
    {
      "cell_type": "code",
      "metadata": {
        "id": "64MrLoxTJgAC"
      },
      "source": [
        "X = dataset.iloc[:, 1:-1].values\n",
        "y = dataset.iloc[:, -1].values"
      ],
      "execution_count": 602,
      "outputs": []
    },
    {
      "cell_type": "code",
      "metadata": {
        "colab": {
          "base_uri": "https://localhost:8080/"
        },
        "id": "ufWCMDEUJrdK",
        "outputId": "6879d114-e766-402a-d6d0-5c526305b2d6"
      },
      "source": [
        "print(X)"
      ],
      "execution_count": 603,
      "outputs": [
        {
          "output_type": "stream",
          "name": "stdout",
          "text": [
            "[[3 3 2 2 2 1]\n",
            " [3 3 2 2 2 2]\n",
            " [3 3 2 2 2 0]\n",
            " ...\n",
            " [1 1 5 5 0 1]\n",
            " [1 1 5 5 0 2]\n",
            " [1 1 5 5 0 0]]\n"
          ]
        }
      ]
    },
    {
      "cell_type": "code",
      "metadata": {
        "colab": {
          "base_uri": "https://localhost:8080/"
        },
        "id": "_aS5w6dZJwwN",
        "outputId": "51473ee8-8bd2-4d11-833e-de54579512e1"
      },
      "source": [
        "print(y)"
      ],
      "execution_count": 604,
      "outputs": [
        {
          "output_type": "stream",
          "name": "stdout",
          "text": [
            "[2 2 2 ... 2 1 3]\n"
          ]
        }
      ]
    },
    {
      "cell_type": "markdown",
      "metadata": {
        "id": "vHol938cW8zd"
      },
      "source": [
        "### Splitting the dataset into the Training set and Test set"
      ]
    },
    {
      "cell_type": "code",
      "metadata": {
        "id": "Z-TDt0Y_XEfc"
      },
      "source": [
        "from sklearn.model_selection import train_test_split\n",
        "X_train, X_test, y_train, y_test = train_test_split(X, y, test_size = 0.3)"
      ],
      "execution_count": 605,
      "outputs": []
    },
    {
      "cell_type": "markdown",
      "metadata": {
        "id": "lWa96B6KQSx-"
      },
      "source": [
        "# Train the model"
      ]
    },
    {
      "cell_type": "code",
      "metadata": {
        "id": "12Xjn-62QXzy"
      },
      "source": [
        "from sklearn.neural_network import MLPClassifier"
      ],
      "execution_count": 606,
      "outputs": []
    },
    {
      "cell_type": "code",
      "metadata": {
        "colab": {
          "base_uri": "https://localhost:8080/"
        },
        "id": "-gsimkjLQdYp",
        "outputId": "2e5bde7b-c260-4118-b19d-8111436bdb1e"
      },
      "source": [
        "mlp = MLPClassifier(max_iter=500, activation = 'relu', momentum=0.2, power_t=0.3)\n",
        "mlp"
      ],
      "execution_count": 607,
      "outputs": [
        {
          "output_type": "execute_result",
          "data": {
            "text/plain": [
              "MLPClassifier(activation='relu', alpha=0.0001, batch_size='auto', beta_1=0.9,\n",
              "              beta_2=0.999, early_stopping=False, epsilon=1e-08,\n",
              "              hidden_layer_sizes=(100,), learning_rate='constant',\n",
              "              learning_rate_init=0.001, max_fun=15000, max_iter=500,\n",
              "              momentum=0.2, n_iter_no_change=10, nesterovs_momentum=True,\n",
              "              power_t=0.3, random_state=None, shuffle=True, solver='adam',\n",
              "              tol=0.0001, validation_fraction=0.1, verbose=False,\n",
              "              warm_start=False)"
            ]
          },
          "metadata": {},
          "execution_count": 607
        }
      ]
    },
    {
      "cell_type": "code",
      "metadata": {
        "colab": {
          "base_uri": "https://localhost:8080/"
        },
        "id": "QHNDftavSID9",
        "outputId": "a19948d3-0f9f-4a1d-ca8a-75a91ebee207"
      },
      "source": [
        "mlp.fit(X_train,y_train)"
      ],
      "execution_count": 608,
      "outputs": [
        {
          "output_type": "stream",
          "name": "stderr",
          "text": [
            "/usr/local/lib/python3.7/dist-packages/sklearn/neural_network/_multilayer_perceptron.py:571: ConvergenceWarning: Stochastic Optimizer: Maximum iterations (500) reached and the optimization hasn't converged yet.\n",
            "  % self.max_iter, ConvergenceWarning)\n"
          ]
        },
        {
          "output_type": "execute_result",
          "data": {
            "text/plain": [
              "MLPClassifier(activation='relu', alpha=0.0001, batch_size='auto', beta_1=0.9,\n",
              "              beta_2=0.999, early_stopping=False, epsilon=1e-08,\n",
              "              hidden_layer_sizes=(100,), learning_rate='constant',\n",
              "              learning_rate_init=0.001, max_fun=15000, max_iter=500,\n",
              "              momentum=0.2, n_iter_no_change=10, nesterovs_momentum=True,\n",
              "              power_t=0.3, random_state=None, shuffle=True, solver='adam',\n",
              "              tol=0.0001, validation_fraction=0.1, verbose=False,\n",
              "              warm_start=False)"
            ]
          },
          "metadata": {},
          "execution_count": 608
        }
      ]
    },
    {
      "cell_type": "markdown",
      "metadata": {
        "id": "0kbGwsPtSj89"
      },
      "source": [
        "# Predict"
      ]
    },
    {
      "cell_type": "code",
      "metadata": {
        "id": "RVko_0K7Sn-m"
      },
      "source": [
        "y_pred = mlp.predict(X_test)"
      ],
      "execution_count": 609,
      "outputs": []
    },
    {
      "cell_type": "code",
      "metadata": {
        "colab": {
          "base_uri": "https://localhost:8080/"
        },
        "id": "XQ3w4WTtSxAI",
        "outputId": "bc2c228b-196e-46f6-ad3d-188317d9bcbc"
      },
      "source": [
        "from sklearn.metrics import classification_report,confusion_matrix, accuracy_score\n",
        "\n",
        "confusion_matrix(y_test,y_pred)"
      ],
      "execution_count": 610,
      "outputs": [
        {
          "output_type": "execute_result",
          "data": {
            "text/plain": [
              "array([[106,   1,  10,   1],\n",
              "       [  0,  18,   0,   0],\n",
              "       [ 10,   5, 352,   0],\n",
              "       [  1,   1,   0,  14]])"
            ]
          },
          "metadata": {},
          "execution_count": 610
        }
      ]
    },
    {
      "cell_type": "code",
      "metadata": {
        "colab": {
          "base_uri": "https://localhost:8080/"
        },
        "id": "3Am9ERlPTJL6",
        "outputId": "a10d710b-8155-475b-9e10-c71fec4aa6d4"
      },
      "source": [
        "print(classification_report(y_test,y_pred))"
      ],
      "execution_count": 611,
      "outputs": [
        {
          "output_type": "stream",
          "name": "stdout",
          "text": [
            "              precision    recall  f1-score   support\n",
            "\n",
            "           0       0.91      0.90      0.90       118\n",
            "           1       0.72      1.00      0.84        18\n",
            "           2       0.97      0.96      0.97       367\n",
            "           3       0.93      0.88      0.90        16\n",
            "\n",
            "    accuracy                           0.94       519\n",
            "   macro avg       0.88      0.93      0.90       519\n",
            "weighted avg       0.95      0.94      0.94       519\n",
            "\n"
          ]
        }
      ]
    },
    {
      "cell_type": "code",
      "metadata": {
        "colab": {
          "base_uri": "https://localhost:8080/"
        },
        "id": "ilUu6EwCT-Dw",
        "outputId": "0fa2cd0a-a779-4862-e533-bb2b14c56c9e"
      },
      "source": [
        "accuracy_score(y_test, y_pred)"
      ],
      "execution_count": 612,
      "outputs": [
        {
          "output_type": "execute_result",
          "data": {
            "text/plain": [
              "0.9441233140655106"
            ]
          },
          "metadata": {},
          "execution_count": 612
        }
      ]
    },
    {
      "cell_type": "code",
      "metadata": {
        "id": "O6X2rV8hC_JX"
      },
      "source": [
        "y_array = {'y_test': y_test,\n",
        "        'y_pred': y_pred}\n",
        "y_data = pd.DataFrame(y_array)"
      ],
      "execution_count": 613,
      "outputs": []
    },
    {
      "cell_type": "code",
      "metadata": {
        "colab": {
          "base_uri": "https://localhost:8080/",
          "height": 352
        },
        "id": "v2WvaNyOGCh1",
        "outputId": "d70a1aaf-a6bf-47ef-e83c-28124fd1e61e"
      },
      "source": [
        "sns.lmplot(x=y_data.columns[0], y=y_data.columns[1], data=y_data, fit_reg=False, x_jitter=0.1,\n",
        "            y_jitter=0.1, hue = y_data.columns[0])\n",
        "plt.show()"
      ],
      "execution_count": 614,
      "outputs": [
        {
          "output_type": "display_data",
          "data": {
            "image/png": "[encoded data removed]",
            "text/plain": [
              "<Figure size 429.9x360 with 1 Axes>"
            ]
          },
          "metadata": {}
        }
      ]
    }
  ]
}